{
 "cells": [
  {
   "cell_type": "code",
   "execution_count": 59,
   "id": "9ef53669",
   "metadata": {},
   "outputs": [],
   "source": [
    "import math"
   ]
  },
  {
   "cell_type": "code",
   "execution_count": 60,
   "id": "a474685a",
   "metadata": {},
   "outputs": [],
   "source": [
    "w = 2.3\n",
    "p = 2\n",
    "b = -3"
   ]
  },
  {
   "cell_type": "code",
   "execution_count": 61,
   "id": "427e6663",
   "metadata": {},
   "outputs": [],
   "source": [
    "a = (w*p+b)"
   ]
  },
  {
   "cell_type": "code",
   "execution_count": 62,
   "id": "fbce4086",
   "metadata": {},
   "outputs": [
    {
     "data": {
      "text/plain": [
       "1.5999999999999996"
      ]
     },
     "execution_count": 62,
     "metadata": {},
     "output_type": "execute_result"
    }
   ],
   "source": [
    "a"
   ]
  },
  {
   "cell_type": "code",
   "execution_count": 63,
   "id": "cfee0b29",
   "metadata": {},
   "outputs": [
    {
     "name": "stdout",
     "output_type": "stream",
     "text": [
      "n=1.6\n"
     ]
    }
   ],
   "source": [
    "if (a >= 0):\n",
    "    print(\"n=1.6\")\n",
    "else:\n",
    "    print(\"n=0\")"
   ]
  },
  {
   "cell_type": "code",
   "execution_count": 64,
   "id": "e2bca03f",
   "metadata": {},
   "outputs": [
    {
     "name": "stdout",
     "output_type": "stream",
     "text": [
      "0.8320183851339245\n"
     ]
    }
   ],
   "source": [
    "def sigmoid(x):\n",
    "  return 1 / (1 + math.exp(-x))\n",
    "\n",
    "print(sigmoid(1.6))"
   ]
  },
  {
   "cell_type": "code",
   "execution_count": null,
   "id": "57938493",
   "metadata": {},
   "outputs": [],
   "source": []
  }
 ],
 "metadata": {
  "kernelspec": {
   "display_name": "Python 3",
   "language": "python",
   "name": "python3"
  },
  "language_info": {
   "codemirror_mode": {
    "name": "ipython",
    "version": 3
   },
   "file_extension": ".py",
   "mimetype": "text/x-python",
   "name": "python",
   "nbconvert_exporter": "python",
   "pygments_lexer": "ipython3",
   "version": "3.8.8"
  }
 },
 "nbformat": 4,
 "nbformat_minor": 5
}
