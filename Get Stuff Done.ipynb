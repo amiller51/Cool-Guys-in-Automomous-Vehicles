{
 "cells": [
  {
   "cell_type": "code",
   "execution_count": null,
   "id": "a09ab8a8",
   "metadata": {},
   "outputs": [],
   "source": []
  },
  {
   "cell_type": "code",
   "execution_count": 8,
   "id": "d2fde973",
   "metadata": {},
   "outputs": [],
   "source": [
    "a = 1d"
   ]
  },
  {
   "cell_type": "code",
   "execution_count": 9,
   "id": "1819fac4",
   "metadata": {},
   "outputs": [
    {
     "data": {
      "text/plain": [
       "1"
      ]
     },
     "execution_count": 9,
     "metadata": {},
     "output_type": "execute_result"
    }
   ],
   "source": [
    "a*a*a"
   ]
  },
  {
   "cell_type": "code",
   "execution_count": 10,
   "id": "930e236b",
   "metadata": {},
   "outputs": [],
   "source": [
    "a = 5"
   ]
  },
  {
   "cell_type": "code",
   "execution_count": 11,
   "id": "f6cde1ad",
   "metadata": {},
   "outputs": [
    {
     "data": {
      "text/plain": [
       "125"
      ]
     },
     "execution_count": 11,
     "metadata": {},
     "output_type": "execute_result"
    }
   ],
   "source": [
    "a*a*a"
   ]
  },
  {
   "cell_type": "code",
   "execution_count": 14,
   "id": "73aea96e",
   "metadata": {},
   "outputs": [
    {
     "name": "stdout",
     "output_type": "stream",
     "text": [
      "copy that, operation grease my schmeats is a go\n"
     ]
    }
   ],
   "source": [
    "print(\"copy that, operation change something in the code is a go\")"
   ]
  },
  {
   "cell_type": "code",
   "execution_count": null,
   "id": "ec4efb2a",
   "metadata": {},
   "outputs": [],
   "source": []
  }
 ],
 "metadata": {
  "kernelspec": {
   "display_name": "Python 3",
   "language": "python",
   "name": "python3"
  },
  "language_info": {
   "codemirror_mode": {
    "name": "ipython",
    "version": 3
   },
   "file_extension": ".py",
   "mimetype": "text/x-python",
   "name": "python",
   "nbconvert_exporter": "python",
   "pygments_lexer": "ipython3",
   "version": "3.8.8"
  }
 },
 "nbformat": 4,
 "nbformat_minor": 5
}
