{
 "cells": [
  {
   "cell_type": "code",
   "execution_count": 1,
   "id": "6ed66942",
   "metadata": {},
   "outputs": [
    {
     "name": "stdout",
     "output_type": "stream",
     "text": [
      "-1.8\n"
     ]
    }
   ],
   "source": [
    "# SET VARIABLES\n",
    "import numpy as np\n",
    "import math\n",
    "w = [3, 2]\n",
    "b = 1.2\n",
    "p = [-5, 6]\n",
    "W = np.array(w)\n",
    "P = np.array(p)\n",
    "WP = np.dot(W,P)\n",
    "WP = np.dot(W,P)\n",
    "a = WP+b\n",
    "print(a)"
   ]
  },
  {
   "cell_type": "code",
   "execution_count": 2,
   "id": "7fc6a697",
   "metadata": {},
   "outputs": [
    {
     "name": "stdout",
     "output_type": "stream",
     "text": [
      "==> n is equal to 0\n"
     ]
    }
   ],
   "source": [
    "# SATURATING LINEAR TRANSFER FUNCTION\n",
    "if (a > 1):\n",
    "    print(\"==> n is equal to 1\")\n",
    "if (a < 0):\n",
    "    print(\"==> n is equal to 0\")\n",
    "if (-1 <= a <= 1):\n",
    "    print(a)"
   ]
  },
  {
   "cell_type": "code",
   "execution_count": 3,
   "id": "b9d09beb",
   "metadata": {},
   "outputs": [
    {
     "name": "stdout",
     "output_type": "stream",
     "text": [
      "==> n is equal to -1\n"
     ]
    }
   ],
   "source": [
    "# SYMMETRICAL HARD LIMIT TRANSFER FUNCTION\n",
    "if (a > 0):\n",
    "    print(\"==> n is equal to 1\")\n",
    "else:\n",
    "    print(\"==> n is equal to -1\")"
   ]
  },
  {
   "cell_type": "code",
   "execution_count": 4,
   "id": "ba7d499e",
   "metadata": {},
   "outputs": [
    {
     "name": "stdout",
     "output_type": "stream",
     "text": [
      "-0.9468060128462682\n"
     ]
    }
   ],
   "source": [
    "#HYPERBOLIC TANGENT SIGMOID\n",
    "def tanh(a):\n",
    "    tanh = (np.exp(a)-np.exp(-a))/(np.exp(a)+np.exp(-a))\n",
    "    return tanh\n",
    "print (tanh(a))"
   ]
  },
  {
   "cell_type": "code",
   "execution_count": null,
   "id": "764a5c07",
   "metadata": {},
   "outputs": [],
   "source": []
  }
 ],
 "metadata": {
  "kernelspec": {
   "display_name": "Python 3",
   "language": "python",
   "name": "python3"
  },
  "language_info": {
   "codemirror_mode": {
    "name": "ipython",
    "version": 3
   },
   "file_extension": ".py",
   "mimetype": "text/x-python",
   "name": "python",
   "nbconvert_exporter": "python",
   "pygments_lexer": "ipython3",
   "version": "3.8.8"
  }
 },
 "nbformat": 4,
 "nbformat_minor": 5
}
